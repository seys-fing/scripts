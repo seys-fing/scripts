{
  "nbformat": 4,
  "nbformat_minor": 0,
  "metadata": {
    "colab": {
      "name": "seys_SdeF_onda_cuadrada.ipynb",
      "version": "0.3.2",
      "provenance": [],
      "collapsed_sections": [],
      "include_colab_link": true
    },
    "kernelspec": {
      "name": "python3",
      "display_name": "Python 3"
    }
  },
  "cells": [
    {
      "cell_type": "markdown",
      "metadata": {
        "id": "view-in-github",
        "colab_type": "text"
      },
      "source": [
        "<a href=\"https://colab.research.google.com/github/flecumberry/seys/blob/master/seys_SdeF_onda_cuadrada.ipynb\" target=\"_parent\"><img src=\"https://colab.research.google.com/assets/colab-badge.svg\" alt=\"Open In Colab\"/></a>"
      ]
    },
    {
      "metadata": {
        "id": "xXm1AAxUBsUm",
        "colab_type": "text"
      },
      "cell_type": "markdown",
      "source": [
        "# Representación en Serie de Fourier de una onda cuadrada\n",
        "Este Notebook analiza la representación de una cuadrada periódica mediante su descomposición en Serie de Fourier.\n",
        "\n",
        "Consideremos una señal periódica onda cuadrada de período $T$  tal que en el período $[0,T)$ vale $$x(t)=\\frac{A}{2},\\quad 0\\leq t\\leq \\frac{T}{2}\\mbox{, y }$$$$x(t)=-\\frac{A}{2},\\quad \\frac{T}{2} < t< T $$\n",
        "\n",
        "Por un lado implementamos la onda cuadrada a partir de la función *square* de la librería *scipy.signal* de Python. Los parámetros que recibe la onda cuadrada es el tiempo donde es evaluada, la frecuencia (que determina el período) y la amplitud."
      ]
    },
    {
      "metadata": {
        "id": "XHkykeNj6jjr",
        "colab_type": "code",
        "colab": {}
      },
      "cell_type": "code",
      "source": [
        "\"\"\"\n",
        "\n",
        "Señales y Sistemas, 2019. IIE-FIng-Udelar.\n",
        "@author: Federico Lecumberry Gatón García\n",
        "\n",
        "\"\"\"\n",
        "# Importar funciones necesarias\n",
        "from scipy import signal\n",
        "import numpy as np\n",
        "import matplotlib.pyplot as plt\n",
        "\n",
        "# =============================================================================\n",
        "# Función a analizar/sintetizar.\n",
        "# The square wave has a period 2*pi, has value +1 from 0 to 2*pi*duty and -1 \n",
        "# from 2*pi*duty to 2*pi. duty must be in the interval [0,1].\n",
        "# =============================================================================\n",
        "def funcion(t, f, A=1, duty=0.5):\n",
        "    return 0.5 * A * signal.square(2 * np.pi * f * t, duty)"
      ],
      "execution_count": 0,
      "outputs": []
    },
    {
      "metadata": {
        "id": "fdj8Drk_M9ot",
        "colab_type": "text"
      },
      "cell_type": "markdown",
      "source": [
        "## Coeficientes de la Serie de Fourier\n",
        "\n",
        "Implementamos dos funciones que retornan el valor del coeficiente $k$-ésimo de la Serie de Fourier en la representación dada por  $$x(t) = a_0 + 2\\sum_{k=1}^N B_k\\cos(k\\omega_0t) - C_k\\sin(k\\omega_0t)$$"
      ]
    },
    {
      "metadata": {
        "id": "E2AZ3q18M70d",
        "colab_type": "code",
        "colab": {}
      },
      "cell_type": "code",
      "source": [
        "# =============================================================================\n",
        "# Coeficientes de la función a analizar/sintetizar.\n",
        "# =============================================================================\n",
        "def coeficiente_sin(k):\n",
        "    mod = k % 2\n",
        "    if mod > 0:\n",
        "        return -1/(k * np.pi)\n",
        "    else:\n",
        "        return 0\n",
        "\n",
        "def coeficiente_cos(k):\n",
        "    return 0\n"
      ],
      "execution_count": 0,
      "outputs": []
    },
    {
      "metadata": {
        "id": "sAKcMr-cNo9N",
        "colab_type": "text"
      },
      "cell_type": "markdown",
      "source": [
        "## Programa principal\n",
        "\n",
        "El programa principal toma tres parámetros:\n",
        "\n",
        "\n",
        "1. N: Número de coeficientes de la Serie de Fourier a usar en la recosntrucción.\n",
        "1. f: Frecuencia de la onda cuadrada (ver ayuda de la función [scipy.signal.square](https://docs.scipy.org/doc/scipy/reference/generated/scipy.signal.square.html))\n",
        "1. A: Amplitud de la onda cuadrada (ver definición de la función).\n",
        "\n",
        "A partir de estos valores, crea un vector de tiempos donde se evalúa la función $y(t)$. Luego se implementa la Serie de Fourier sumando 2N componentes (senos y cosenos) con sus respectivos coeficientes calculados a partir de la expresión hallada en el práctico.\n",
        "\n",
        "Se grafican cada una de las componentes que se usan en la reconstrucción. También se grafica la función original y la reconstrucción obtenida."
      ]
    },
    {
      "metadata": {
        "id": "_uipBHyGNpS_",
        "colab_type": "code",
        "colab": {}
      },
      "cell_type": "code",
      "source": [
        "# =============================================================================\n",
        "# Main program.\n",
        "# =============================================================================\n",
        "N = 15 # Número de coeficientes a usar.\n",
        "f = 2 # Frecuencia de la onda cuadrada.\n",
        "A = 3 # Amplitud de la onda cuadrada.\n",
        "\n",
        "# Tiempo\n",
        "n = np.linspace(-1, 1, 500)\n",
        "\n",
        "# Tren de pulsos\n",
        "y = funcion( n, f, A )\n",
        "\n",
        "# Suma de exponenciales. \n",
        "# Ver ec.(3.32): x = a0 + 2\\sum_{k=1}^N B_k\\cos(k\\omega_0t) - C_k\\sin(k\\omega_0t)\n",
        "a0 = 0\n",
        "z = a0\n",
        "\n",
        "print('Coeficientes de la Serie de Fourier según la descomposición de la ec. 3.32 del libro.')\n",
        "for k in range( 1, N+1 ):\n",
        "    print('B_%d = %5.3f' % (k, coeficiente_cos(k)))\n",
        "    print('C_%d = %5.3f' % (k, coeficiente_sin(k)))\n",
        "    ecos = A * coeficiente_cos(k) * np.cos( k * (2*np.pi*f) * n )\n",
        "    esin = A * coeficiente_sin(k) * np.sin( k * (2*np.pi*f) * n )\n",
        "    zn = 2*( ecos - esin )\n",
        "    z = z + zn\n",
        "    plt.plot(n, zn, label=k)\n",
        "    plt.legend()\n",
        "plt.title('Primeros %d componentes de la Serie de Fourier' % N)\n",
        "    \n",
        "plt.figure()\n",
        "plt.plot(n, y, label='Onda cuadrada')\n",
        "plt.plot(n, z, label='Reconstrucción')\n",
        "plt.legend()\n",
        "plt.title('Reconstrucción de la función con %d coeficientes de la SdeF' % N)\n"
      ],
      "execution_count": 0,
      "outputs": []
    },
    {
      "metadata": {
        "id": "3-A30RhTPRN7",
        "colab_type": "text"
      },
      "cell_type": "markdown",
      "source": [
        "# Pruebas\n",
        "\n",
        "*   ¿Mejora la aproximación al aumentar el número de coeficientes?\n",
        "*  ¿Es posible encontrar una expresión cerrada para el error cometido?\n",
        "\n"
      ]
    },
    {
      "metadata": {
        "id": "Pg3aYWO8PHGp",
        "colab_type": "code",
        "colab": {}
      },
      "cell_type": "code",
      "source": [
        ""
      ],
      "execution_count": 0,
      "outputs": []
    }
  ]
}