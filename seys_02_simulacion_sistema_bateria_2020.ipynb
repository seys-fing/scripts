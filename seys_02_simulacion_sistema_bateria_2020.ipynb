{
 "cells": [
  {
   "cell_type": "markdown",
   "metadata": {
    "colab_type": "text",
    "id": "view-in-github"
   },
   "source": [
    "<a href=\"https://colab.research.google.com/github/seys-fing/scripts/blob/master/simulaci%C3%B3n_sistema_bateria_2020.ipynb\" target=\"_parent\"><img src=\"https://colab.research.google.com/assets/colab-badge.svg\" alt=\"Open In Colab\"/></a>"
   ]
  },
  {
   "cell_type": "markdown",
   "metadata": {
    "colab_type": "text",
    "id": "Y8ljy0KnTAMR"
   },
   "source": [
    "# Simulación y verificación de un SLIT\n",
    "Simularemos el sistema propuesto en el ejercicio 10 del práctico 2. Para la simulación nos basaremos en la ecuación en diferencias. Validaremos la salida de la respuesta calculada en el ejercicio comparando contra la salida simulada. Generamos algunas funciones auxiliares.\n",
    "\n",
    "El programa principal comparará la salida a una entrada con la forma de un pulso.\n"
   ]
  },
  {
   "cell_type": "code",
   "execution_count": 1,
   "metadata": {
    "colab": {},
    "colab_type": "code",
    "id": "aKAo95tJLthV"
   },
   "outputs": [],
   "source": [
    "\"\"\"\n",
    "\n",
    "Señales y Sistemas, 2019. IIE-FIng-Udelar.\n",
    "@author: Federico Lecumberry\n",
    "\n",
    "\"\"\"\n",
    "# Importar funciones necesarias\n",
    "import numpy as np\n",
    "from scipy import signal\n",
    "\n",
    "import matplotlib.pyplot as plt\n",
    "\n",
    "# =============================================================================\n",
    "# Escalón (u[n]).\n",
    "# =============================================================================\n",
    "def escalon(n):\n",
    "    return np.heaviside(n,1)\n",
    "\n",
    "# =============================================================================\n",
    "# Retardo (y[n] = x[n-M]).\n",
    "# Se repite el valor en los bordes.\n",
    "# =============================================================================\n",
    "def retardo(x,M):\n",
    "    if M > 0:\n",
    "        y = np.concatenate( (x[0]*np.ones(M), x[0:-M]) )\n",
    "    elif M < 0:\n",
    "        y = np.concatenate( (x[-M:], x[-1]*np.ones(-M)) )\n",
    "\n",
    "    return y\n",
    "\n",
    "# =============================================================================\n",
    "# Pulso (x[n] = 1, 0 <= n <= M-1 y x[n] = 0, para todo otro n)\n",
    "# =============================================================================\n",
    "def pulso( M ):\n",
    "    u0 = escalon( n )\n",
    "    uM = retardo( u0, M )\n",
    "\n",
    "    return (u0 - uM)\n",
    "  \n",
    "# =============================================================================\n",
    "# Graficar la entrada y las salidas calculadas con ambos métodos.\n",
    "# =============================================================================\n",
    "def graficar( n, x, y, z ,r):\n",
    "    mx, sx, bx = plt.stem( n, x, label='Entrada' )\n",
    "    my, sy, by = plt.stem( n, y, ':', label='Salida por ec. dif.' )\n",
    "    mz, sz, bz = plt.stem( n, z, ':', label='Respuesta al pulso' )\n",
    "    mr, sr, br = plt.stem( n, r, label='Convolucion' )\n",
    "\n",
    "    plt.setp(mx, color='k', markersize=6)\n",
    "    plt.setp(my, color='b', markersize=10)\n",
    "    plt.setp(mz, color='r', markersize=6)\n",
    "    plt.setp(mr, color='g', markersize=4)\n",
    "    plt.setp(sx, color='k', linewidth=1)\n",
    "    plt.setp(sy, color='k', linewidth=1)\n",
    "    plt.setp(sz, color='k', linewidth=1)\n",
    "    plt.setp(sr, color='k', linewidth=1)\n",
    "    plt.setp(bx, color='k', linewidth=1)\n",
    "    plt.setp(by, color='k', linewidth=1)\n",
    "    plt.setp(bz, color='k', linewidth=1)\n",
    "    plt.setp(br, color='k', linewidth=1)\n",
    "    plt.legend()\n"
   ]
  },
  {
   "cell_type": "markdown",
   "metadata": {
    "colab_type": "text",
    "id": "xzT4zKt3UXT0"
   },
   "source": [
    "## Simulación por la ecuación en diferencias\n",
    "La ecuación en diferencia que simularemos modela la carga de una batería en el instante $n$ ($y[n]$):\n",
    "$$y[n]=0.95y[n-1]+x[n]$$\n",
    "De esta forma podemos calcular la respuesta del sistema a *cualquier* señal $x[n]$ con valores nulos para $n<0$.\n",
    "\n",
    "En la práctica, la batería tiene una carga máxima (`carga_max`) más allá de la cuál la batería no aumenta la carga ($y[n]$). Tampoco puede tener una carga negativa, por lo que definiremos una carga mínima (`carga_min`). Estas limitaciones agregan transformaciones **no lineales** que no podemos modelar con las herramientas del curso. Estas restricciones están incluidas en la simulación pero con los parámetros por defecto no tienen efecto."
   ]
  },
  {
   "cell_type": "code",
   "execution_count": 2,
   "metadata": {
    "colab": {},
    "colab_type": "code",
    "id": "Ir9kROXJUGmw"
   },
   "outputs": [],
   "source": [
    "# =============================================================================\n",
    "# Definición del sistema por su ecuación en diferencias.\n",
    "#\n",
    "# La carga máxima y mínima de la batería no está modelada en la ecuación del \n",
    "# sistema dado que es una no linealidad, sin embargo lo dejamos accesible para \n",
    "# poder ver el efecto.\n",
    "# =============================================================================\n",
    "def sistema_ecuacion_diferencias( x, n ):    \n",
    "    carga_max = 50;\n",
    "    carga_min = 0;\n",
    "    N = np.size(n)\n",
    "    y = np.zeros( N )\n",
    "    for i in range( N ):\n",
    "        if n[i] < 0: \n",
    "            y[i] = 0\n",
    "        else:\n",
    "            temp = 0.95*y[i-1] + x[i];\n",
    "            # Aquí agregamos los límites de la batería.\n",
    "            y[i] = max( carga_min, min( carga_max, temp) )\n",
    "    return y"
   ]
  },
  {
   "cell_type": "markdown",
   "metadata": {
    "colab_type": "text",
    "id": "4RXMxQT_r1a8"
   },
   "source": [
    "## Cáculo de la respuesta a un escalón\n",
    "Conociendo la respuesta al impulso $$h[n]=0.95^nu[n]$$ podemos calcular de form cerrada la respuesta a una entrada $x[n]$. La expresión de la salida a la entrada $$x[n]=u[n]$$ es $$y[n]=\\frac{1-0.95^{n+1}}{0.05}u[n].$$\n",
    "\n",
    "Esta salida la simulamos en la función `sistema_respuesta_pulso(M,vn)` donde $M$ es el ancho del pulso que comienza en $n=0$ y $vn$ es el vector de tiempos en que se evalúa la salida.\n"
   ]
  },
  {
   "cell_type": "code",
   "execution_count": 3,
   "metadata": {
    "colab": {},
    "colab_type": "code",
    "id": "0DUdDHPbUPlC"
   },
   "outputs": [],
   "source": [
    "# =============================================================================\n",
    "# Respuesta al pulso. Respuesta calculada a un pulso de ancho M que comienza en\n",
    "# n = 0.\n",
    "# =============================================================================\n",
    "def sistema_respuesta_pulso( M, n ):\n",
    "    N = np.size( n )\n",
    "    z = np.zeros( N )\n",
    "    u0 = escalon( n )\n",
    "    uM = retardo( u0, M )\n",
    "    for i in range( N ):\n",
    "        if n[i] < 0:\n",
    "            z[i] = 0\n",
    "        else:\n",
    "            z[i] = (1-0.95**(n[i]+1))/0.05*u0[i] - (1-0.95**(n[i]+1-M))/0.05*uM[i];\n",
    "    return z\n",
    "\n",
    "def respuesta_al_impulso(n):\n",
    "    N = np.size( n )\n",
    "    z = np.zeros( N )\n",
    "    u0 = escalon( n )\n",
    "    for i in range( N ):\n",
    "        if n[i] < 0:\n",
    "            z[i] = 0\n",
    "        else:\n",
    "            z[i] = 0.95**(n[i])*u0[i];\n",
    "    return z\n"
   ]
  },
  {
   "cell_type": "markdown",
   "metadata": {
    "colab_type": "text",
    "id": "eQyrhfM7t_BF"
   },
   "source": [
    "## Ejecución del programa\n",
    "La estructura es la siguiente:\n",
    "1. Definir las variables.\n",
    "1. Crear pulso de carga y descarga.\n",
    "1. Armar entrada como combinación lineal de ambos, $x[n]$\n",
    "1. Obtener la salida mediante la simulación con la ecuación en diferencias, $y[n]$\n",
    "1. Obtener la salida mediante (combinación lineal de) la ecuación de respuesta al pulso calculada, $z[n]$.\n",
    "1. Graficar los resultados.\n",
    "\n"
   ]
  },
  {
   "cell_type": "code",
   "execution_count": 4,
   "metadata": {
    "colab": {
     "base_uri": "https://localhost:8080/",
     "height": 375
    },
    "colab_type": "code",
    "id": "x7sQsPUuUR6p",
    "outputId": "9c92212b-18bf-4c28-a676-023ed114c6da"
   },
   "outputs": [
    {
     "name": "stdout",
     "output_type": "stream",
     "text": [
      "129\n"
     ]
    },
    {
     "data": {
      "image/png": "[encoded data removed]",
      "text/plain": [
       "<Figure size 432x288 with 1 Axes>"
      ]
     },
     "metadata": {
      "needs_background": "light"
     },
     "output_type": "display_data"
    }
   ],
   "source": [
    "# Vector de tiempos. La carga comienza en n=0.\n",
    "n = np.arange(-5, 60)\n",
    "N = np.size( n )\n",
    "\n",
    "# Tiempo (ancho del pulso) de carga de la batería.\n",
    "Mc = 10\n",
    "\n",
    "# Tiempo (ancho de pulso) de descarga de la batería.\n",
    "Md = 10\n",
    "\n",
    "# Instante en que comienza la descarga.\n",
    "Mr = 14\n",
    "\n",
    "# Coeficiente para la combinación de pulso de carga y descarga.\n",
    "A = 1\n",
    "B = -0.3\n",
    "\n",
    "# Pulso de carga. Comienza en n = 0 y tiene Mc puntos.\n",
    "xc = pulso(Mc)\n",
    "\n",
    "# Pulso de descarga. Comienza en n = Mr y tiene Md puntos.\n",
    "xd = retardo( pulso( Md ), Mr )\n",
    "\n",
    "# Preparar la entrada como la combinación lineal de una carga y una descarga.\n",
    "x = A*xc + B*xd\n",
    "\n",
    "\n",
    "h=respuesta_al_impulso(n)\n",
    "yconv=signal.convolve(x,h,'full','direct')\n",
    "M=len(yconv)\n",
    "print(M)\n",
    "yconvn=yconv[5:N+5]\n",
    "\n",
    "# Respuesta del sistema calculado por la ecuación en diferencias.\n",
    "y = sistema_ecuacion_diferencias( x, n )\n",
    "\n",
    "# Respuesta del sistema a un pulso calculada. Lo calculamos como la combinación\n",
    "# lineal de salidas a los pulsos.\n",
    "z1 = sistema_respuesta_pulso( Mc, n )\n",
    "z2 = sistema_respuesta_pulso( Md, n )\n",
    "z2 = retardo( z2, Mr )\n",
    "z = A*z1 + B*z2\n",
    "\n",
    "# Graficar\n",
    "nl=np.arange(-5,124)\n",
    "graficar( n, x, y, z, yconvn)\n"
   ]
  },
  {
   "cell_type": "markdown",
   "metadata": {
    "colab_type": "text",
    "id": "oe5oS9tM3AKs"
   },
   "source": [
    "# Pruebas\n",
    "\n",
    "Variando los parámetros se lleva el sistema a otras situaciones, varias de ellas se pueden interpretar como la respuesta de la batería mientras el modelo se ajuste.\n",
    "\n",
    "* ¿Qué pasa si se descarga durante mucho tiempo?\n",
    "* ¿Qué pasa si se reduce el valor de la `carga_max` de la bateria y el modelo deja de ser válido?\n",
    "\n"
   ]
  }
 ],
 "metadata": {
  "colab": {
   "collapsed_sections": [],
   "include_colab_link": true,
   "name": "simulación_sistema_bateria_2020.ipynb",
   "provenance": []
  },
  "kernelspec": {
   "display_name": "Python 3",
   "language": "python",
   "name": "python3"
  },
  "language_info": {
   "codemirror_mode": {
    "name": "ipython",
    "version": 3
   },
   "file_extension": ".py",
   "mimetype": "text/x-python",
   "name": "python",
   "nbconvert_exporter": "python",
   "pygments_lexer": "ipython3",
   "version": "3.7.7"
  },
  "toc": {
   "base_numbering": 1,
   "nav_menu": {},
   "number_sections": false,
   "sideBar": true,
   "skip_h1_title": false,
   "title_cell": "Table of Contents",
   "title_sidebar": "Contents",
   "toc_cell": false,
   "toc_position": {},
   "toc_section_display": true,
   "toc_window_display": false
  },
  "varInspector": {
   "cols": {
    "lenName": 16,
    "lenType": 16,
    "lenVar": 40
   },
   "kernels_config": {
    "python": {
     "delete_cmd_postfix": "",
     "delete_cmd_prefix": "del ",
     "library": "var_list.py",
     "varRefreshCmd": "print(var_dic_list())"
    },
    "r": {
     "delete_cmd_postfix": ") ",
     "delete_cmd_prefix": "rm(",
     "library": "var_list.r",
     "varRefreshCmd": "cat(var_dic_list()) "
    }
   },
   "types_to_exclude": [
    "module",
    "function",
    "builtin_function_or_method",
    "instance",
    "_Feature"
   ],
   "window_display": false
  }
 },
 "nbformat": 4,
 "nbformat_minor": 1
}
